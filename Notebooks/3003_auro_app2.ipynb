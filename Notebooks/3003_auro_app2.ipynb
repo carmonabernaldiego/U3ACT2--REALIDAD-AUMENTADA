{
 "cells": [
  {
   "cell_type": "code",
   "execution_count": 3,
   "metadata": {
    "execution": {
     "iopub.execute_input": "2024-07-04T05:06:20.892527Z",
     "iopub.status.busy": "2024-07-04T05:06:20.891530Z",
     "iopub.status.idle": "2024-07-04T05:06:21.307258Z",
     "shell.execute_reply": "2024-07-04T05:06:21.306261Z",
     "shell.execute_reply.started": "2024-07-04T05:06:20.892527Z"
    }
   },
   "outputs": [],
   "source": [
    "import numpy as np\n",
    "import cv2"
   ]
  },
  {
   "cell_type": "code",
   "execution_count": 2,
   "metadata": {
    "execution": {
     "iopub.execute_input": "2024-07-04T05:06:22.660488Z",
     "iopub.status.busy": "2024-07-04T05:06:22.660488Z",
     "iopub.status.idle": "2024-07-04T05:06:22.674635Z",
     "shell.execute_reply": "2024-07-04T05:06:22.673731Z",
     "shell.execute_reply.started": "2024-07-04T05:06:22.660488Z"
    }
   },
   "outputs": [],
   "source": [
    "def findArucoMarkers(image, markerSize=6, totalMarkers=250):\n",
    "    # Convert the image to grayscale\n",
    "    gray = cv2.cvtColor(image, cv2.COLOR_BGR2GRAY)\n",
    "\n",
    "    # Get the Aruco dictionary based on the marker size and total markers\n",
    "    dictionary_key = getattr(cv2.aruco, f'DICT_{markerSize}X'\n",
    "                                        f'{markerSize}_{totalMarkers}')\n",
    "\n",
    "    aruco_dictionary = cv2.aruco.getPredefinedDictionary(dictionary_key)\n",
    "\n",
    "    # Set the Aruco detector parameters\n",
    "    aruco_params = cv2.aruco.DetectorParameters()\n",
    "    detector = cv2.aruco.ArucoDetector(aruco_dictionary, aruco_params)\n",
    "    # Detect Aruco markers in the grayscale image\n",
    "    marker_corners, marker_ids, _ = detector.detectMarkers(gray)\n",
    "\n",
    "    return marker_corners, marker_ids"
   ]
  },
  {
   "cell_type": "code",
   "execution_count": 5,
   "metadata": {
    "execution": {
     "iopub.execute_input": "2024-07-04T05:06:23.291572Z",
     "iopub.status.busy": "2024-07-04T05:06:23.291065Z",
     "iopub.status.idle": "2024-07-04T05:06:23.318261Z",
     "shell.execute_reply": "2024-07-04T05:06:23.317083Z",
     "shell.execute_reply.started": "2024-07-04T05:06:23.291572Z"
    }
   },
   "outputs": [],
   "source": [
    "def superimposeImageOnMarkers(video_frame, aruco_markers, overlay_image,\n",
    "                              video_width, video_height):\n",
    "    frame_height, frame_width = video_frame.shape[:2]\n",
    "\n",
    "    if len(aruco_markers[0]) != 0:\n",
    "        for i, marker_corner in enumerate(aruco_markers[0]):\n",
    "            marker_corners = marker_corner.reshape((4, 2)).astype(np.int32)\n",
    "\n",
    "            # Draw a polygon around the marker corners\n",
    "            cv2.polylines(video_frame, [marker_corners], True, (0, 255, 0), 2)\n",
    "\n",
    "            # Add marker ID as text on the top-left corner of the marker\n",
    "            cv2.putText(video_frame, str(aruco_markers[1][i]),\n",
    "                        tuple(marker_corners[0]),\n",
    "                        cv2.FONT_HERSHEY_SIMPLEX,0.5, (0, 255, 0), 2)\n",
    "\n",
    "            # Find the homography matrix to map the overlay image onto the marker\n",
    "            homography_matrix, _ = cv2.findHomography(\n",
    "                np.array([[0, 0], [video_width, 0], [video_width, video_height],\n",
    "                          [0, video_height]], dtype=\"float32\"), marker_corners)\n",
    "\n",
    "            # Warp the overlay image to align with the marker using homography matrix\n",
    "            warped_image = cv2.warpPerspective(overlay_image, homography_matrix,\n",
    "                                               (frame_width, frame_height))\n",
    "\n",
    "            # Create a mask to apply the warped image only on the marker area\n",
    "            mask = np.zeros((frame_height, frame_width), dtype=\"uint8\")\n",
    "            cv2.fillConvexPoly(mask, marker_corners, (255, 255, 255), cv2.LINE_AA)\n",
    "\n",
    "            masked_warped_image = cv2.bitwise_and(warped_image, warped_image,\n",
    "                                                 mask=mask)\n",
    "\n",
    "            # Apply the inverse mask to the video frame\n",
    "            masked_video_frame = cv2.bitwise_and(video_frame, video_frame,\n",
    "                                                mask=cv2.bitwise_not(mask))\n",
    "\n",
    "            # Combine the masked warped image and masked video frame\n",
    "            video_frame = cv2.add(masked_warped_image, masked_video_frame)\n",
    "\n",
    "    return video_frame"
   ]
  },
  {
   "cell_type": "code",
   "execution_count": 6,
   "metadata": {
    "execution": {
     "iopub.execute_input": "2024-07-04T14:03:30.332284Z",
     "iopub.status.busy": "2024-07-04T14:03:30.331285Z",
     "iopub.status.idle": "2024-07-04T14:03:30.354283Z",
     "shell.execute_reply": "2024-07-04T14:03:30.353284Z",
     "shell.execute_reply.started": "2024-07-04T14:03:30.332284Z"
    }
   },
   "outputs": [],
   "source": [
    "def processVideoFeed(overlay_image):\n",
    "    # Set the dimensions of the video feed\n",
    "    video_height = 480\n",
    "    video_width = 640\n",
    "\n",
    "    # Open the video capture\n",
    "    video_capture = cv2.VideoCapture(0)\n",
    "\n",
    "    # Load and resize the overlay image\n",
    "    overlay_image = cv2.resize(overlay_image, (video_width, video_height))\n",
    "\n",
    "    while video_capture.isOpened():\n",
    "        # Read a frame from the video capture\n",
    "        ret, video_frame = video_capture.read()\n",
    "\n",
    "        if ret:\n",
    "            # Find Aruco markers in the video frame\n",
    "            aruco_markers = findArucoMarkers(video_frame, totalMarkers=100)\n",
    "\n",
    "            # Superimpose the overlay image on the markers in the video frame\n",
    "            video_frame = superimposeImageOnMarkers(video_frame, aruco_markers,\n",
    "                                                    overlay_image, video_width,\n",
    "                                                    video_height)\n",
    "\n",
    "            # Display the video frame with overlay\n",
    "            cv2.imshow(\"Camera Feed\", video_frame)\n",
    "\n",
    "        # Check for 'q' key press to exit the loop\n",
    "        if cv2.waitKey(1) & 0xFF == ord('q'):\n",
    "            break\n",
    "\n",
    "    video_capture.release()\n",
    "    cv2.destroyAllWindows()"
   ]
  },
  {
   "cell_type": "code",
   "execution_count": null,
   "metadata": {},
   "outputs": [],
   "source": []
  },
  {
   "cell_type": "code",
   "execution_count": 7,
   "metadata": {
    "execution": {
     "iopub.execute_input": "2024-07-04T14:03:34.638960Z",
     "iopub.status.busy": "2024-07-04T14:03:34.638960Z",
     "iopub.status.idle": "2024-07-04T14:04:46.773174Z",
     "shell.execute_reply": "2024-07-04T14:04:46.772000Z",
     "shell.execute_reply.started": "2024-07-04T14:03:34.638960Z"
    }
   },
   "outputs": [],
   "source": [
    "overlay_image = cv2.imread('overlay.jpg')\n",
    "processVideoFeed(overlay_image)\n"
   ]
  },
  {
   "cell_type": "code",
   "execution_count": null,
   "metadata": {},
   "outputs": [],
   "source": []
  }
 ],
 "metadata": {
  "kernelspec": {
   "display_name": "Python 3",
   "language": "python",
   "name": "python3"
  },
  "language_info": {
   "codemirror_mode": {
    "name": "ipython",
    "version": 3
   },
   "file_extension": ".py",
   "mimetype": "text/x-python",
   "name": "python",
   "nbconvert_exporter": "python",
   "pygments_lexer": "ipython3",
   "version": "3.12.4"
  },
  "widgets": {
   "application/vnd.jupyter.widget-state+json": {
    "state": {},
    "version_major": 2,
    "version_minor": 0
   }
  }
 },
 "nbformat": 4,
 "nbformat_minor": 4
}
